{
 "cells": [
  {
   "cell_type": "markdown",
   "metadata": {},
   "source": [
    "# EEG to WAV"
   ]
  },
  {
   "cell_type": "code",
   "execution_count": 1,
   "metadata": {
    "collapsed": true
   },
   "outputs": [],
   "source": [
    "import os\n",
    "import wave\n",
    "import struct"
   ]
  },
  {
   "cell_type": "markdown",
   "metadata": {},
   "source": [
    "A function to scale a list to the appropriate values for a 16 bit waveform. <br> The maximum amplitude for a 16 bit wave file is 2^16 = 65536, so a range from -32768 to +32767."
   ]
  },
  {
   "cell_type": "code",
   "execution_count": 3,
   "metadata": {
    "collapsed": true
   },
   "outputs": [],
   "source": [
    "def scaleArray(a):\n",
    "    temp_a = []\n",
    "\n",
    "    for i in a:\n",
    "        temp_a.append(abs(i))\n",
    "\n",
    "    mx = max(temp_a)\n",
    "\n",
    "    for i in range(len(a)):\n",
    "        a[i] /= mx\n",
    "        a[i] *= 32767  \n",
    "        a[i] *= -1\n",
    "        a[i] = int(a[i])\n",
    "\n",
    "    return a"
   ]
  },
  {
   "cell_type": "markdown",
   "metadata": {},
   "source": [
    "Read the eeg, put it in an list and scale it with the function above."
   ]
  },
  {
   "cell_type": "code",
   "execution_count": 4,
   "metadata": {
    "collapsed": true
   },
   "outputs": [],
   "source": [
    "def readEeg(txtFile):\n",
    "    global scaledEeg\n",
    "    f = open(txtFile, 'r')\n",
    "    eeg_input = []\n",
    "    i = 0;\n",
    "\n",
    "    for n in f:\n",
    "        n = n.strip()\n",
    "        n = float(n)\n",
    "        n = int(n)\n",
    "        eeg_input.append(n)\n",
    "\n",
    "    scaledEeg = scaleArray(eeg_input)\n",
    "\n",
    "    f.close()\n"
   ]
  },
  {
   "cell_type": "markdown",
   "metadata": {},
   "source": [
    "A function to make the waveform. <br> Note that the line *wv.writeframes(packed_value)* appears two times. That's because there are two channels, so the data has to be written two times."
   ]
  },
  {
   "cell_type": "code",
   "execution_count": 5,
   "metadata": {
    "collapsed": true
   },
   "outputs": [],
   "source": [
    "def makeWavetable(waveFile):\n",
    "    wv = wave.open(waveFile, 'w')\n",
    "    wv.setparams((2, 2, 44100, 0, 'NONE', 'not compressed'))\n",
    "\n",
    "    for i in range(len(scaledEeg)):\n",
    "            value = scaledEeg[i]\n",
    "            packed_value = struct.pack('h', value)\n",
    "            wv.writeframes(packed_value)\n",
    "            wv.writeframes(packed_value)\n",
    "\n",
    "    wv.close()"
   ]
  },
  {
   "cell_type": "markdown",
   "metadata": {},
   "source": [
    "Read the txt file and make the waveform."
   ]
  },
  {
   "cell_type": "code",
   "execution_count": null,
   "metadata": {},
   "outputs": [],
   "source": [
    "fname = 'path/to/file.txt'\n",
    "wvname = fname[0:-3] + 'wav'\n",
    "\n",
    "readEeg(fname)\n",
    "makeWavetable(wvname)\n",
    "\n",
    "print('>> finished!')"
   ]
  }
 ],
 "metadata": {
  "kernelspec": {
   "display_name": "Python [Root]",
   "language": "python",
   "name": "Python [Root]"
  },
  "language_info": {
   "codemirror_mode": {
    "name": "ipython",
    "version": 3
   },
   "file_extension": ".py",
   "mimetype": "text/x-python",
   "name": "python",
   "nbconvert_exporter": "python",
   "pygments_lexer": "ipython3",
   "version": "3.5.3"
  }
 },
 "nbformat": 4,
 "nbformat_minor": 2
}
